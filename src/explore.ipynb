{
    "cells": [
        {
            "cell_type": "markdown",
            "metadata": {},
            "source": [
                "# Explore here"
            ]
        },
        {
            "cell_type": "code",
            "execution_count": null,
            "metadata": {},
            "outputs": [],
            "source": [
                "# Importamos las librerias necesarias\n",
                "import pandas as pd\n",
                "import matplotlib.pyplot as plt\n",
                "import numpy as np\n",
                "import seaborn as sns\n",
                "import missingno as msno\n",
                "from sklearn.impute import KNNImputer\n",
                "import statsmodels.api as sm\n",
                "from sklearn.model_selection import train_test_split\n",
                "import xgboost as xgb\n",
                "from sklearn.preprocessing import StandardScaler, MinMaxScaler, RobustScaler\n",
                "from sklearn.linear_model import LinearRegression, LassoCV, RidgeCV\n",
                "from sklearn.metrics import *"
            ]
        },
        {
            "cell_type": "markdown",
            "metadata": {},
            "source": [
                "# EDA"
            ]
        },
        {
            "cell_type": "code",
            "execution_count": null,
            "metadata": {},
            "outputs": [],
            "source": [
                "# Cargamos los datos con información de las columnas\n",
                "Describe_Columna = pd.read_csv(r'..\\data\\raw\\data_dict.csv', encoding='latin-1')\n",
                "pd.set_option('display.max_rows', None)\n",
                "\n",
                " # Visualizamos los datos\n",
                "Describe_Columna"
            ]
        },
        {
            "cell_type": "code",
            "execution_count": null,
            "metadata": {},
            "outputs": [],
            "source": [
                "Describe_Columna.info()"
            ]
        },
        {
            "cell_type": "code",
            "execution_count": null,
            "metadata": {},
            "outputs": [],
            "source": [
                "# Cargamos los datos\n",
                "df = pd.read_csv(r'..\\data\\raw\\demographic_health_data.csv')\n",
                "\n",
                "# Visualizamos los datos\n",
                "df.head()"
            ]
        },
        {
            "cell_type": "code",
            "execution_count": null,
            "metadata": {},
            "outputs": [],
            "source": [
                "# Visualizamos las Estadísticas descriptivas\n",
                "df.describe()"
            ]
        },
        {
            "cell_type": "code",
            "execution_count": null,
            "metadata": {},
            "outputs": [],
            "source": [
                "# Visualizamos la informacion de la datasets\n",
                "df.info()"
            ]
        },
        {
            "cell_type": "code",
            "execution_count": null,
            "metadata": {},
            "outputs": [],
            "source": [
                "df.shape"
            ]
        },
        {
            "cell_type": "code",
            "execution_count": null,
            "metadata": {},
            "outputs": [],
            "source": [
                "# Verificamos si existen datos únicos\n",
                "n_unicos = df.nunique().sort_values(ascending=False)\n",
                "n_unicos"
            ]
        },
        {
            "cell_type": "code",
            "execution_count": null,
            "metadata": {},
            "outputs": [],
            "source": [
                "# Revisamos que no tengamos datos duplicados\n",
                "df.duplicated().sum()"
            ]
        },
        {
            "cell_type": "code",
            "execution_count": null,
            "metadata": {},
            "outputs": [],
            "source": [
                "# Verificamos los datos nulos o faltantes\n",
                "(df.isnull().sum() > 0).sum() # Se realiza suma de faltantes por columna, se verifica si es mayor a 0 y se suman"
            ]
        },
        {
            "cell_type": "code",
            "execution_count": null,
            "metadata": {},
            "outputs": [],
            "source": [
                "msno.matrix(df)"
            ]
        },
        {
            "cell_type": "markdown",
            "metadata": {},
            "source": [
                "No hay datos faltantes en el datasets"
            ]
        },
        {
            "cell_type": "markdown",
            "metadata": {},
            "source": [
                "Se eliminan columnas redundantes de información para minimizar datasets y datos a procesar"
            ]
        },
        {
            "cell_type": "code",
            "execution_count": null,
            "metadata": {},
            "outputs": [],
            "source": [
                "Columnas_Drop = ['fips',\n",
                "    '0-9 y/o % of total pop',\n",
                "    '10-19 y/o % of total pop',\n",
                "    '20-29 y/o % of total pop',\n",
                "    '30-39 y/o % of total pop',\n",
                "    '40-49 y/o % of total pop',\n",
                "    '50-59 y/o % of total pop',\n",
                "    '60-69 y/o % of total pop',\n",
                "    '70-79 y/o % of total pop',\n",
                "    '80+ y/o % of total pop',\n",
                "    '% White-alone',\n",
                "    '% Black-alone',\n",
                "    '% NA/AI-alone',\n",
                "    '% Asian-alone',\n",
                "    '% Hawaiian/PI-alone',\n",
                "    '% Two or more races',\n",
                "    'POP_ESTIMATE_2018',\n",
                "    'PCTPOVALL_2018',\n",
                "    'Percent of adults with less than a high school diploma 2014-18',\n",
                "    'Percent of adults with a high school diploma only 2014-18',\n",
                "    'Percent of adults completing some college or associate\\'s degree 2014-18',\n",
                "    'Percent of adults with a bachelor\\'s degree or higher 2014-18',\n",
                "    'CI90LBINC_2018',\n",
                "    'CI90UBINC_2018',\n",
                "    'Civilian_labor_force_2018',\n",
                "    'Population Aged 60+',\n",
                "    'Percent of Population Aged 60+',\n",
                "    'STATE_FIPS',\n",
                "    'COUNTY_NAME',\n",
                "    'STATE_NAME',\n",
                "    'CNTY_FIPS',\n",
                "    'anycondition_prevalence',\n",
                "    'anycondition_Lower 95% CI',\n",
                "    'anycondition_Upper 95% CI',\n",
                "    'Obesity_prevalence',\n",
                "    'Obesity_Lower 95% CI',\n",
                "    'Obesity_Upper 95% CI',\n",
                "    'Heart disease_prevalence',\n",
                "    'Heart disease_Lower 95% CI',\n",
                "    'Heart disease_Upper 95% CI',\n",
                "    'COPD_prevalence',\n",
                "    'COPD_Lower 95% CI',\n",
                "    'COPD_Upper 95% CI',\n",
                "    'diabetes_prevalence',\n",
                "    'diabetes_Lower 95% CI',\n",
                "    'diabetes_Upper 95% CI',\n",
                "    'CKD_prevalence',\n",
                "    'CKD_Lower 95% CI',\n",
                "    'CKD_Upper 95% CI']\n",
                "\n",
                "# Cantidades de columnas a eliminar\n",
                "len(Columnas_Drop)"
            ]
        },
        {
            "cell_type": "code",
            "execution_count": null,
            "metadata": {},
            "outputs": [],
            "source": [
                "# Eliminamos las columnas que no aportan información\n",
                "df = df.drop(columns=Columnas_Drop, errors='ignore')"
            ]
        },
        {
            "cell_type": "code",
            "execution_count": null,
            "metadata": {},
            "outputs": [],
            "source": [
                "# Veriificamos la eliminación de las columnas\n",
                "df.shape"
            ]
        },
        {
            "cell_type": "markdown",
            "metadata": {},
            "source": [
                "Combinamos variables relacionadas entre sí.\n",
                "Edades, Razas/Etnias, Profesionales Médicos y Condiciones de Salud"
            ]
        },
        {
            "cell_type": "code",
            "execution_count": null,
            "metadata": {},
            "outputs": [],
            "source": [
                "# Combinaciones de Edad\n",
                "df['Age_0_19'] = df['0-9'] + df['19-Oct']\n",
                "df['Age_20_39'] = df['20-29'] + df['30-39']\n",
                "df['Age_40_59'] = df['40-49'] + df['50-59']\n",
                "df['Age_60+'] = df['60-69'] + df['70-79'] + df['80+']\n",
                "\n",
                "# Combinaciones de Raza/Etnicidad\n",
                "df['Other_races'] = (df['Native American/American Indian-alone pop'] + \n",
                "    df['Asian-alone pop'] + \n",
                "    df['Hawaiian/Pacific Islander-alone pop'] + \n",
                "    df['Two or more races pop'])\n",
                "\n",
                "# Calcular el índice de disponibilidad de profesionales de la salud\n",
                "df['healthcare_availability_index'] = (\n",
                "    df['Active Physicians per 100000 Population 2018 (AAMC)'] +\n",
                "    df['Total Active Patient Care Physicians per 100000 Population 2018 (AAMC)'] +\n",
                "    df['Active Primary Care Physicians per 100000 Population 2018 (AAMC)'] +\n",
                "    df['Active Patient Care Primary Care Physicians per 100000 Population 2018 (AAMC)'] +\n",
                "    df['Active General Surgeons per 100000 Population 2018 (AAMC)'] +\n",
                "    df['Active Patient Care General Surgeons per 100000 Population 2018 (AAMC)']\n",
                ") / 6\n",
                "\n",
                "# Eliminar columnas combinadas\n",
                "df = df.drop(columns=[\n",
                "    '0-9', '19-Oct', '20-29', '30-39', '40-49', '50-59', '60-69', '70-79', '80+', \n",
                "    'Native American/American Indian-alone pop', 'Asian-alone pop', 'Hawaiian/Pacific Islander-alone pop', \n",
                "    'Two or more races pop', 'Total Population', 'Active Physicians per 100000 Population 2018 (AAMC)',\n",
                "    'Total Active Patient Care Physicians per 100000 Population 2018 (AAMC)',\n",
                "    'Active Primary Care Physicians per 100000 Population 2018 (AAMC)',\n",
                "    'Active Patient Care Primary Care Physicians per 100000 Population 2018 (AAMC)',\n",
                "    'Active General Surgeons per 100000 Population 2018 (AAMC)',\n",
                "    'Active Patient Care General Surgeons per 100000 Population 2018 (AAMC)'], errors='ignore')\n",
                "\n",
                "# Creación de una nueva variable que sume todas las condiciones de salud\n",
                "df['total_health_conditions'] = (\n",
                "    df['anycondition_number'] +\n",
                "    df['Obesity_number'] +\n",
                "    df['Heart disease_number'] +\n",
                "    df['COPD_number'] +\n",
                "    df['diabetes_number'] +\n",
                "    df['CKD_number'])"
            ]
        },
        {
            "cell_type": "code",
            "execution_count": 26,
            "metadata": {},
            "outputs": [
                {
                    "data": {
                        "text/plain": [
                            "Index(['TOT_POP', 'White-alone pop', 'Black-alone pop', 'N_POP_CHG_2018',\n",
                            "       'GQ_ESTIMATES_2018', 'R_birth_2018', 'R_death_2018',\n",
                            "       'R_NATURAL_INC_2018', 'R_INTERNATIONAL_MIG_2018', 'R_DOMESTIC_MIG_2018',\n",
                            "       'R_NET_MIG_2018', 'Less than a high school diploma 2014-18',\n",
                            "       'High school diploma only 2014-18',\n",
                            "       'Some college or associate's degree 2014-18',\n",
                            "       'Bachelor's degree or higher 2014-18', 'POVALL_2018', 'PCTPOV017_2018',\n",
                            "       'PCTPOV517_2018', 'MEDHHINC_2018', 'Employed_2018', 'Unemployed_2018',\n",
                            "       'Unemployment_rate_2018', 'Median_Household_Income_2018',\n",
                            "       'Med_HH_Income_Percent_of_State_Total_2018',\n",
                            "       'Total nurse practitioners (2019)', 'Total physician assistants (2019)',\n",
                            "       'Total Hospitals (2019)', 'Internal Medicine Primary Care (2019)',\n",
                            "       'Family Medicine/General Practice Primary Care (2019)',\n",
                            "       'Total Specialist Physicians (2019)', 'ICU Beds_x',\n",
                            "       'county_pop2018_18 and older', 'anycondition_number', 'Obesity_number',\n",
                            "       'Heart disease_number', 'COPD_number', 'diabetes_number', 'CKD_number',\n",
                            "       'Urban_rural_code', 'Age_0_19', 'Age_20_39', 'Age_40_59', 'Age_60+',\n",
                            "       'Other_races', 'healthcare_availability_index',\n",
                            "       'total_health_conditions'],\n",
                            "      dtype='object')"
                        ]
                    },
                    "execution_count": 26,
                    "metadata": {},
                    "output_type": "execute_result"
                }
            ],
            "source": [
                "df.columns"
            ]
        },
        {
            "cell_type": "markdown",
            "metadata": {},
            "source": [
                "# Visualizaciones"
            ]
        },
        {
            "cell_type": "code",
            "execution_count": 43,
            "metadata": {},
            "outputs": [
                {
                    "data": {
                        "image/png": "[encoded data removed]",
                        "text/plain": [
                            "<Figure size 640x480 with 1 Axes>"
                        ]
                    },
                    "metadata": {},
                    "output_type": "display_data"
                }
            ],
            "source": [
                "# Seleccionamos las columnas numéricas\n",
                "columnas_numericas = df[['total_health_conditions',]].columns\n",
                "\n",
                "#Creamos hisplot para cada una\n",
                "#fig, axes = plt.subplots(1, 1, figsize=(10, 5))\n",
                "#axes = axes.flatten()  # Convertimos los ejes en una lista plana para iterar\n",
                "\n",
                "#Iteramos por cada columna del dataframe\n",
                "for i, columna in enumerate(columnas_numericas):\n",
                "    sns.histplot(\n",
                "        #ax=axes[i],\n",
                "        x=columna, \n",
                "        data=df,\n",
                "        bins= 2,\n",
                "        hue= 'Urban_rural_code',\n",
                "        multiple = 'dodge',  # separamos las barras para no superponer\n",
                "        shrink = 0.7), # ancho de barras\n",
                "        #alpha = 0.6)  # Ajustamos transparencia)  \n",
                "    #axes[i].set_title(columna)\n",
                "\n",
                "#Para mostrar el gráfico\n",
                "plt.tight_layout()\n",
                "plt.show()"
            ]
        },
        {
            "cell_type": "code",
            "execution_count": 42,
            "metadata": {},
            "outputs": [
                {
                    "data": {
                        "text/html": [
                            "<div>\n",
                            "<style scoped>\n",
                            "    .dataframe tbody tr th:only-of-type {\n",
                            "        vertical-align: middle;\n",
                            "    }\n",
                            "\n",
                            "    .dataframe tbody tr th {\n",
                            "        vertical-align: top;\n",
                            "    }\n",
                            "\n",
                            "    .dataframe thead th {\n",
                            "        text-align: right;\n",
                            "    }\n",
                            "</style>\n",
                            "<table border=\"1\" class=\"dataframe\">\n",
                            "  <thead>\n",
                            "    <tr style=\"text-align: right;\">\n",
                            "      <th></th>\n",
                            "      <th>total_health_conditions</th>\n",
                            "    </tr>\n",
                            "  </thead>\n",
                            "  <tbody>\n",
                            "    <tr>\n",
                            "      <th>count</th>\n",
                            "      <td>3.140000e+03</td>\n",
                            "    </tr>\n",
                            "    <tr>\n",
                            "      <th>mean</th>\n",
                            "      <td>8.187918e+04</td>\n",
                            "    </tr>\n",
                            "    <tr>\n",
                            "      <th>std</th>\n",
                            "      <td>2.416289e+05</td>\n",
                            "    </tr>\n",
                            "    <tr>\n",
                            "      <th>min</th>\n",
                            "      <td>1.010000e+02</td>\n",
                            "    </tr>\n",
                            "    <tr>\n",
                            "      <th>25%</th>\n",
                            "      <td>1.054875e+04</td>\n",
                            "    </tr>\n",
                            "    <tr>\n",
                            "      <th>50%</th>\n",
                            "      <td>2.432950e+04</td>\n",
                            "    </tr>\n",
                            "    <tr>\n",
                            "      <th>75%</th>\n",
                            "      <td>6.118950e+04</td>\n",
                            "    </tr>\n",
                            "    <tr>\n",
                            "      <th>max</th>\n",
                            "      <td>7.034188e+06</td>\n",
                            "    </tr>\n",
                            "  </tbody>\n",
                            "</table>\n",
                            "</div>"
                        ],
                        "text/plain": [
                            "       total_health_conditions\n",
                            "count             3.140000e+03\n",
                            "mean              8.187918e+04\n",
                            "std               2.416289e+05\n",
                            "min               1.010000e+02\n",
                            "25%               1.054875e+04\n",
                            "50%               2.432950e+04\n",
                            "75%               6.118950e+04\n",
                            "max               7.034188e+06"
                        ]
                    },
                    "execution_count": 42,
                    "metadata": {},
                    "output_type": "execute_result"
                }
            ],
            "source": [
                "df[['total_health_conditions',]].describe()"
            ]
        },
        {
            "cell_type": "code",
            "execution_count": null,
            "metadata": {},
            "outputs": [],
            "source": [
                "'''\n",
                "# Realizar el análisis y construir el modelo de regresión lineal\n",
                "import statsmodels.api as sm\n",
                "\n",
                "# Seleccionar variables independientes (features) y la variable objetivo (target)\n",
                "features = ['TOT_POP', 'Age_0_19', 'Age_20_39', 'Age_40_59', 'Age_60+', 'White-alone pop', 'Black-alone pop', 'Other_races', \n",
                "            'MEDHHINC_2018', 'POVALL_2018', 'Employed_2018', 'Unemployment_rate_2018', \n",
                "            'Less than a high school diploma 2014-18', 'High school diploma only 2014-18', \n",
                "            'Some college or associate\\'s degree 2014-18', 'Bachelor\\'s degree or higher 2014-18']\n",
                "target = 'total_health_conditions'\n",
                "\n",
                "# Añadir una constante (intercepto) al modelo\n",
                "X = sm.add_constant(df[features])\n",
                "y = df[target]\n",
                "\n",
                "# Ajustar el modelo de regresión lineal\n",
                "modelo = sm.OLS(y, X).fit()\n",
                "\n",
                "# Resumen del modelo\n",
                "print(modelo.summary())\n",
                "'''"
            ]
        },
        {
            "cell_type": "code",
            "execution_count": null,
            "metadata": {},
            "outputs": [],
            "source": []
        }
    ],
    "metadata": {
        "kernelspec": {
            "display_name": "Python 3",
            "language": "python",
            "name": "python3"
        },
        "language_info": {
            "codemirror_mode": {
                "name": "ipython",
                "version": 3
            },
            "file_extension": ".py",
            "mimetype": "text/x-python",
            "name": "python",
            "nbconvert_exporter": "python",
            "pygments_lexer": "ipython3",
            "version": "3.12.9"
        },
        "orig_nbformat": 4
    },
    "nbformat": 4,
    "nbformat_minor": 2
}
